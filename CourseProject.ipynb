{
 "cells": [
  {
   "cell_type": "code",
   "execution_count": 1,
   "id": "58c40788",
   "metadata": {},
   "outputs": [],
   "source": [
    "import pandas as pd\n",
    "import matplotlib.pyplot as plt\n",
    "import numpy as np\n",
    "import seaborn as sns\n",
    "from sklearn import preprocessing"
   ]
  },
  {
   "cell_type": "markdown",
   "id": "4e33d2e8",
   "metadata": {},
   "source": [
    "# Data Loading"
   ]
  },
  {
   "cell_type": "code",
   "execution_count": 2,
   "id": "59c9e0af",
   "metadata": {},
   "outputs": [
    {
     "data": {
      "text/html": [
       "<div>\n",
       "<style scoped>\n",
       "    .dataframe tbody tr th:only-of-type {\n",
       "        vertical-align: middle;\n",
       "    }\n",
       "\n",
       "    .dataframe tbody tr th {\n",
       "        vertical-align: top;\n",
       "    }\n",
       "\n",
       "    .dataframe thead th {\n",
       "        text-align: right;\n",
       "    }\n",
       "</style>\n",
       "<table border=\"1\" class=\"dataframe\">\n",
       "  <thead>\n",
       "    <tr style=\"text-align: right;\">\n",
       "      <th></th>\n",
       "      <th>op_id</th>\n",
       "      <th>timestamp</th>\n",
       "      <th>state</th>\n",
       "      <th>user_isp</th>\n",
       "      <th>app_id</th>\n",
       "      <th>app_cat</th>\n",
       "      <th>banner_pos</th>\n",
       "      <th>manufacturer</th>\n",
       "      <th>device_model</th>\n",
       "      <th>device_version</th>\n",
       "      <th>device_height</th>\n",
       "      <th>device_width</th>\n",
       "      <th>resolution</th>\n",
       "      <th>clicked</th>\n",
       "    </tr>\n",
       "  </thead>\n",
       "  <tbody>\n",
       "    <tr>\n",
       "      <th>0</th>\n",
       "      <td>448ed944-b0a3-4f8e-9662-fb1202e2777b</td>\n",
       "      <td>1569445326</td>\n",
       "      <td>New Jersey</td>\n",
       "      <td>Comcast Cable</td>\n",
       "      <td>6rm7ag7</td>\n",
       "      <td>games - simulation</td>\n",
       "      <td>top-right</td>\n",
       "      <td>Samsung</td>\n",
       "      <td>SM-G925V</td>\n",
       "      <td>6.0.1</td>\n",
       "      <td>792</td>\n",
       "      <td>1408</td>\n",
       "      <td>True</td>\n",
       "      <td>False</td>\n",
       "    </tr>\n",
       "    <tr>\n",
       "      <th>1</th>\n",
       "      <td>3c501ca8-f771-4926-acce-d532f979b8b5</td>\n",
       "      <td>1566517297</td>\n",
       "      <td>Illinois</td>\n",
       "      <td>Verizon Wireless</td>\n",
       "      <td>74193f6</td>\n",
       "      <td>games - card</td>\n",
       "      <td>right</td>\n",
       "      <td>NaN</td>\n",
       "      <td>NaN</td>\n",
       "      <td>7.0</td>\n",
       "      <td>2560</td>\n",
       "      <td>1440</td>\n",
       "      <td>True</td>\n",
       "      <td>False</td>\n",
       "    </tr>\n",
       "    <tr>\n",
       "      <th>2</th>\n",
       "      <td>db342130-0f34-4d43-a72c-3c1891eade24</td>\n",
       "      <td>1566375809</td>\n",
       "      <td>California</td>\n",
       "      <td>T-Mobile USA</td>\n",
       "      <td>6549c21</td>\n",
       "      <td>games - puzzle</td>\n",
       "      <td>top-left</td>\n",
       "      <td>NaN</td>\n",
       "      <td>NaN</td>\n",
       "      <td>7.0</td>\n",
       "      <td>1280</td>\n",
       "      <td>720</td>\n",
       "      <td>True</td>\n",
       "      <td>False</td>\n",
       "    </tr>\n",
       "    <tr>\n",
       "      <th>3</th>\n",
       "      <td>f080c21c-7791-44c5-9429-8eb411786fe7</td>\n",
       "      <td>1568568842</td>\n",
       "      <td>California</td>\n",
       "      <td>T-Mobile USA</td>\n",
       "      <td>dng7e8p</td>\n",
       "      <td>unknown</td>\n",
       "      <td>left</td>\n",
       "      <td>Samsung</td>\n",
       "      <td>SM-J700T1</td>\n",
       "      <td>7.1.1</td>\n",
       "      <td>1280</td>\n",
       "      <td>720</td>\n",
       "      <td>True</td>\n",
       "      <td>False</td>\n",
       "    </tr>\n",
       "    <tr>\n",
       "      <th>4</th>\n",
       "      <td>3ca5ac37-7beb-4d2e-b0a8-662a4f9eb614</td>\n",
       "      <td>1571357999</td>\n",
       "      <td>Georgia</td>\n",
       "      <td>North Carolina Research and Education Network</td>\n",
       "      <td>hp3monn</td>\n",
       "      <td>games - simulation</td>\n",
       "      <td>top-left</td>\n",
       "      <td>T-Mobile</td>\n",
       "      <td>5049W</td>\n",
       "      <td>7.0</td>\n",
       "      <td>720</td>\n",
       "      <td>1280</td>\n",
       "      <td>True</td>\n",
       "      <td>True</td>\n",
       "    </tr>\n",
       "  </tbody>\n",
       "</table>\n",
       "</div>"
      ],
      "text/plain": [
       "                                  op_id   timestamp       state  \\\n",
       "0  448ed944-b0a3-4f8e-9662-fb1202e2777b  1569445326  New Jersey   \n",
       "1  3c501ca8-f771-4926-acce-d532f979b8b5  1566517297    Illinois   \n",
       "2  db342130-0f34-4d43-a72c-3c1891eade24  1566375809  California   \n",
       "3  f080c21c-7791-44c5-9429-8eb411786fe7  1568568842  California   \n",
       "4  3ca5ac37-7beb-4d2e-b0a8-662a4f9eb614  1571357999     Georgia   \n",
       "\n",
       "                                        user_isp   app_id             app_cat  \\\n",
       "0                                  Comcast Cable  6rm7ag7  games - simulation   \n",
       "1                               Verizon Wireless  74193f6        games - card   \n",
       "2                                   T-Mobile USA  6549c21      games - puzzle   \n",
       "3                                   T-Mobile USA  dng7e8p             unknown   \n",
       "4  North Carolina Research and Education Network  hp3monn  games - simulation   \n",
       "\n",
       "  banner_pos manufacturer device_model device_version  device_height  \\\n",
       "0  top-right      Samsung     SM-G925V          6.0.1            792   \n",
       "1      right          NaN          NaN            7.0           2560   \n",
       "2   top-left          NaN          NaN            7.0           1280   \n",
       "3       left      Samsung    SM-J700T1          7.1.1           1280   \n",
       "4   top-left     T-Mobile        5049W            7.0            720   \n",
       "\n",
       "   device_width  resolution  clicked  \n",
       "0          1408        True    False  \n",
       "1          1440        True    False  \n",
       "2           720        True    False  \n",
       "3           720        True    False  \n",
       "4          1280        True     True  "
      ]
     },
     "execution_count": 2,
     "metadata": {},
     "output_type": "execute_result"
    }
   ],
   "source": [
    "df_train=pd.read_csv('ctr_dataset_train.csv')\n",
    "df_train.head()"
   ]
  },
  {
   "cell_type": "markdown",
   "id": "7b193b1f",
   "metadata": {},
   "source": [
    "# Data Exploration\n"
   ]
  },
  {
   "cell_type": "markdown",
   "id": "f897373c",
   "metadata": {},
   "source": [
    "## Checking for null values"
   ]
  },
  {
   "cell_type": "code",
   "execution_count": 3,
   "id": "6279491a",
   "metadata": {},
   "outputs": [
    {
     "data": {
      "text/plain": [
       "array(['games - simulation', 'games - card', 'games - puzzle', nan,\n",
       "       'games - casual', 'games - arcade', 'games - action',\n",
       "       'music_and_audio', 'games - educational', 'games - role_playing',\n",
       "       'personalization', 'games - adventure', 'games - board',\n",
       "       'entertainment', 'games - casino', 'games - strategy',\n",
       "       'games - word', 'games - racing', 'education', 'games - sports',\n",
       "       'productivity', 'shopping', 'social', 'libraries_and_demo',\n",
       "       'games - music', 'games - trivia', 'photography', 'food_and_drink',\n",
       "       'tools', 'art_and_design', 'auto_and_vehicles', 'video_players',\n",
       "       'dating', 'comics', 'travel_and_local', 'sports', 'lifestyle',\n",
       "       'books_and_reference', 'beauty', 'business', 'weather', 'finance',\n",
       "       'news_and_magazines', 'health_and_fitness', 'events',\n",
       "       'communication'], dtype=object)"
      ]
     },
     "execution_count": 3,
     "metadata": {},
     "output_type": "execute_result"
    }
   ],
   "source": [
    "df_train.app_cat.replace('unknown', np.nan,inplace=True)\n",
    "df_train.app_cat.unique()\n"
   ]
  },
  {
   "cell_type": "code",
   "execution_count": 4,
   "id": "5b44a768",
   "metadata": {},
   "outputs": [
    {
     "data": {
      "text/plain": [
       "<AxesSubplot:>"
      ]
     },
     "execution_count": 4,
     "metadata": {},
     "output_type": "execute_result"
    },
    {
     "data": {
      "image/png": "[encoded data removed]",
      "text/plain": [
       "<Figure size 640x480 with 1 Axes>"
      ]
     },
     "metadata": {},
     "output_type": "display_data"
    }
   ],
   "source": [
    "sns.heatmap(df_train.isnull(),yticklabels=False,cbar=False,cmap='viridis')"
   ]
  },
  {
   "cell_type": "code",
   "execution_count": 5,
   "id": "725992b9",
   "metadata": {},
   "outputs": [
    {
     "data": {
      "text/html": [
       "<div>\n",
       "<style scoped>\n",
       "    .dataframe tbody tr th:only-of-type {\n",
       "        vertical-align: middle;\n",
       "    }\n",
       "\n",
       "    .dataframe tbody tr th {\n",
       "        vertical-align: top;\n",
       "    }\n",
       "\n",
       "    .dataframe thead th {\n",
       "        text-align: right;\n",
       "    }\n",
       "</style>\n",
       "<table border=\"1\" class=\"dataframe\">\n",
       "  <thead>\n",
       "    <tr style=\"text-align: right;\">\n",
       "      <th></th>\n",
       "      <th>device_height</th>\n",
       "      <th>device_width</th>\n",
       "    </tr>\n",
       "  </thead>\n",
       "  <tbody>\n",
       "    <tr>\n",
       "      <th>count</th>\n",
       "      <td>2.519056e+06</td>\n",
       "      <td>2.519056e+06</td>\n",
       "    </tr>\n",
       "    <tr>\n",
       "      <th>mean</th>\n",
       "      <td>1.181182e+03</td>\n",
       "      <td>1.152202e+03</td>\n",
       "    </tr>\n",
       "    <tr>\n",
       "      <th>std</th>\n",
       "      <td>5.193045e+02</td>\n",
       "      <td>4.526964e+02</td>\n",
       "    </tr>\n",
       "    <tr>\n",
       "      <th>min</th>\n",
       "      <td>1.400000e+01</td>\n",
       "      <td>1.400000e+01</td>\n",
       "    </tr>\n",
       "    <tr>\n",
       "      <th>25%</th>\n",
       "      <td>7.200000e+02</td>\n",
       "      <td>7.200000e+02</td>\n",
       "    </tr>\n",
       "    <tr>\n",
       "      <th>50%</th>\n",
       "      <td>1.080000e+03</td>\n",
       "      <td>1.080000e+03</td>\n",
       "    </tr>\n",
       "    <tr>\n",
       "      <th>75%</th>\n",
       "      <td>1.280000e+03</td>\n",
       "      <td>1.280000e+03</td>\n",
       "    </tr>\n",
       "    <tr>\n",
       "      <th>max</th>\n",
       "      <td>3.120000e+03</td>\n",
       "      <td>3.120000e+03</td>\n",
       "    </tr>\n",
       "  </tbody>\n",
       "</table>\n",
       "</div>"
      ],
      "text/plain": [
       "       device_height  device_width\n",
       "count   2.519056e+06  2.519056e+06\n",
       "mean    1.181182e+03  1.152202e+03\n",
       "std     5.193045e+02  4.526964e+02\n",
       "min     1.400000e+01  1.400000e+01\n",
       "25%     7.200000e+02  7.200000e+02\n",
       "50%     1.080000e+03  1.080000e+03\n",
       "75%     1.280000e+03  1.280000e+03\n",
       "max     3.120000e+03  3.120000e+03"
      ]
     },
     "execution_count": 5,
     "metadata": {},
     "output_type": "execute_result"
    }
   ],
   "source": [
    "df_train[['device_height','device_width']].describe()"
   ]
  },
  {
   "cell_type": "markdown",
   "id": "00fc7b38",
   "metadata": {},
   "source": [
    "## One hot encoding"
   ]
  },
  {
   "cell_type": "markdown",
   "id": "0c926b13",
   "metadata": {},
   "source": [
    "features = ['state','banner_pos','manufacturer','app_cat']\n",
    "X = df_train[features]\n",
    "enc = preprocessing.OneHotEncoder()\n",
    "enc.fit(X) # fit the encoder to categories in our data \n",
    "one_hot = enc.transform(X)\n",
    "X_proc = pd.DataFrame(one_hot.toarray(), columns=enc.get_feature_names())\n"
   ]
  },
  {
   "cell_type": "code",
   "execution_count": 6,
   "id": "e8accbcb",
   "metadata": {},
   "outputs": [
    {
     "data": {
      "text/plain": [
       "op_id                  0\n",
       "timestamp              0\n",
       "state                  0\n",
       "user_isp              32\n",
       "app_id                 0\n",
       "app_cat           596348\n",
       "banner_pos             0\n",
       "manufacturer      770942\n",
       "device_model      770846\n",
       "device_version         0\n",
       "device_height          0\n",
       "device_width           0\n",
       "resolution             0\n",
       "clicked                0\n",
       "dtype: int64"
      ]
     },
     "execution_count": 6,
     "metadata": {},
     "output_type": "execute_result"
    }
   ],
   "source": [
    "df_train.isnull().sum()"
   ]
  },
  {
   "cell_type": "code",
   "execution_count": 7,
   "id": "b974aa91",
   "metadata": {},
   "outputs": [
    {
     "data": {
      "text/plain": [
       "op_id             2519056\n",
       "timestamp         1930791\n",
       "state                  51\n",
       "user_isp             3316\n",
       "app_id              14315\n",
       "app_cat                45\n",
       "banner_pos              9\n",
       "manufacturer          251\n",
       "device_model         2256\n",
       "device_version         16\n",
       "device_height         297\n",
       "device_width          238\n",
       "resolution              1\n",
       "clicked                 2\n",
       "dtype: int64"
      ]
     },
     "execution_count": 7,
     "metadata": {},
     "output_type": "execute_result"
    }
   ],
   "source": [
    "df_train.nunique()"
   ]
  },
  {
   "cell_type": "markdown",
   "id": "ec63d731",
   "metadata": {},
   "source": [
    "## Removing undesired columns"
   ]
  },
  {
   "cell_type": "markdown",
   "id": "f27ca61c",
   "metadata": {},
   "source": [
    "#### We can see that the resolution column has only one value, so it won't help the model for further classification"
   ]
  },
  {
   "cell_type": "code",
   "execution_count": 8,
   "id": "50468ed7",
   "metadata": {},
   "outputs": [],
   "source": [
    "df_train=df_train.drop(columns=['resolution'])\n"
   ]
  },
  {
   "cell_type": "markdown",
   "id": "d78cc7e0",
   "metadata": {},
   "source": [
    "## Correlation between features"
   ]
  },
  {
   "cell_type": "code",
   "execution_count": 9,
   "id": "33750f0d",
   "metadata": {},
   "outputs": [
    {
     "ename": "NameError",
     "evalue": "name 'new_data' is not defined",
     "output_type": "error",
     "traceback": [
      "\u001b[1;31m---------------------------------------------------------------------------\u001b[0m",
      "\u001b[1;31mNameError\u001b[0m                                 Traceback (most recent call last)",
      "\u001b[1;32m~\\AppData\\Local\\Temp\\ipykernel_1652\\523416524.py\u001b[0m in \u001b[0;36m<module>\u001b[1;34m\u001b[0m\n\u001b[1;32m----> 1\u001b[1;33m \u001b[0msns\u001b[0m\u001b[1;33m.\u001b[0m\u001b[0mheatmap\u001b[0m\u001b[1;33m(\u001b[0m\u001b[0mnew_data\u001b[0m\u001b[1;33m.\u001b[0m\u001b[0mcorr\u001b[0m\u001b[1;33m(\u001b[0m\u001b[1;33m)\u001b[0m\u001b[1;33m,\u001b[0m\u001b[0mcmap\u001b[0m\u001b[1;33m=\u001b[0m\u001b[1;34m'coolwarm'\u001b[0m\u001b[1;33m)\u001b[0m\u001b[1;33m\u001b[0m\u001b[1;33m\u001b[0m\u001b[0m\n\u001b[0m\u001b[0;32m      2\u001b[0m \u001b[0mplt\u001b[0m\u001b[1;33m.\u001b[0m\u001b[0mtitle\u001b[0m\u001b[1;33m(\u001b[0m\u001b[1;34m'new_data correlation'\u001b[0m\u001b[1;33m)\u001b[0m\u001b[1;33m\u001b[0m\u001b[1;33m\u001b[0m\u001b[0m\n",
      "\u001b[1;31mNameError\u001b[0m: name 'new_data' is not defined"
     ]
    }
   ],
   "source": [
    "sns.heatmap(new_data.corr(),cmap='coolwarm')\n",
    "plt.title('new_data correlation')"
   ]
  },
  {
   "cell_type": "markdown",
   "id": "642ac075",
   "metadata": {},
   "source": [
    "## Checking for imbalancing"
   ]
  },
  {
   "cell_type": "code",
   "execution_count": 10,
   "id": "b872a74e",
   "metadata": {},
   "outputs": [
    {
     "data": {
      "image/png": "[encoded data removed]",
      "text/plain": [
       "<Figure size 640x480 with 1 Axes>"
      ]
     },
     "metadata": {},
     "output_type": "display_data"
    }
   ],
   "source": [
    "y = np.array([df_train.clicked.sum(),df_train.shape[0]-df_train.clicked.sum()])\n",
    "mylabels = [\"Clicked\",\"Not Clicked\"]\n",
    "plt.pie(y, labels = mylabels,autopct='%1.1f%%', shadow = True)\n",
    "plt.show()"
   ]
  },
  {
   "cell_type": "markdown",
   "id": "ecb25a53",
   "metadata": {},
   "source": [
    "#### We can see that the dataset is not balanced at all, about 93% of the data has a False label"
   ]
  },
  {
   "cell_type": "markdown",
   "id": "f382e623",
   "metadata": {},
   "source": [
    "## Creating boxplots per feature"
   ]
  },
  {
   "cell_type": "code",
   "execution_count": 11,
   "id": "6ec7fc52",
   "metadata": {},
   "outputs": [
    {
     "data": {
      "image/png": "[encoded data removed]",
      "text/plain": [
       "<Figure size 640x480 with 1 Axes>"
      ]
     },
     "metadata": {},
     "output_type": "display_data"
    }
   ],
   "source": [
    "boxplot = df_train.boxplot(column=list(df_train.columns[df_train.dtypes=='int64'][1:]))  "
   ]
  },
  {
   "cell_type": "code",
   "execution_count": 12,
   "id": "9d505386",
   "metadata": {},
   "outputs": [
    {
     "data": {
      "text/plain": [
       "array(['New Jersey', 'Illinois', 'California', 'Georgia', 'Virginia',\n",
       "       'New York', 'Minnesota', 'Michigan', 'Florida', 'Ohio',\n",
       "       'Tennessee', 'Alabama', 'Oregon', 'Texas', 'Massachusetts',\n",
       "       'Hawaii', 'Colorado', 'Pennsylvania', 'Utah', 'Washington',\n",
       "       'Missouri', 'Oklahoma', 'North Carolina', 'Arkansas', 'Indiana',\n",
       "       'Mississippi', 'Louisiana', 'Rhode Island', 'South Dakota',\n",
       "       'Nevada', 'Arizona', 'Kentucky', 'Maryland', 'Wisconsin',\n",
       "       'South Carolina', 'Iowa', 'Connecticut', 'West Virginia',\n",
       "       'Vermont', 'District of Columbia', 'Montana', 'New Mexico',\n",
       "       'Kansas', 'Delaware', 'Wyoming', 'Idaho', 'New Hampshire', 'Maine',\n",
       "       'Nebraska', 'North Dakota', 'Alaska'], dtype=object)"
      ]
     },
     "execution_count": 12,
     "metadata": {},
     "output_type": "execute_result"
    }
   ],
   "source": [
    "df_train.state.unique()"
   ]
  },
  {
   "cell_type": "code",
   "execution_count": 13,
   "id": "948758d1",
   "metadata": {},
   "outputs": [
    {
     "data": {
      "text/plain": [
       "array(['games - simulation', 'games - card', 'games - puzzle', nan,\n",
       "       'games - casual', 'games - arcade', 'games - action',\n",
       "       'music_and_audio', 'games - educational', 'games - role_playing',\n",
       "       'personalization', 'games - adventure', 'games - board',\n",
       "       'entertainment', 'games - casino', 'games - strategy',\n",
       "       'games - word', 'games - racing', 'education', 'games - sports',\n",
       "       'productivity', 'shopping', 'social', 'libraries_and_demo',\n",
       "       'games - music', 'games - trivia', 'photography', 'food_and_drink',\n",
       "       'tools', 'art_and_design', 'auto_and_vehicles', 'video_players',\n",
       "       'dating', 'comics', 'travel_and_local', 'sports', 'lifestyle',\n",
       "       'books_and_reference', 'beauty', 'business', 'weather', 'finance',\n",
       "       'news_and_magazines', 'health_and_fitness', 'events',\n",
       "       'communication'], dtype=object)"
      ]
     },
     "execution_count": 13,
     "metadata": {},
     "output_type": "execute_result"
    }
   ],
   "source": [
    "df_train.app_cat.unique()"
   ]
  },
  {
   "cell_type": "code",
   "execution_count": 14,
   "id": "57a15e03",
   "metadata": {},
   "outputs": [
    {
     "name": "stdout",
     "output_type": "stream",
     "text": [
      " The number of unknown apps is 0\n"
     ]
    }
   ],
   "source": [
    "print(f\" The number of unknown apps is {df_train.app_cat.loc[df_train.app_cat=='unknown'].count()}\")"
   ]
  },
  {
   "cell_type": "code",
   "execution_count": 15,
   "id": "2a374f42",
   "metadata": {},
   "outputs": [],
   "source": [
    "df_train['clicked_numeric']=df_train.clicked*1\n"
   ]
  },
  {
   "cell_type": "code",
   "execution_count": 16,
   "id": "6b02ccdc",
   "metadata": {},
   "outputs": [
    {
     "data": {
      "text/html": [
       "<div>\n",
       "<style scoped>\n",
       "    .dataframe tbody tr th:only-of-type {\n",
       "        vertical-align: middle;\n",
       "    }\n",
       "\n",
       "    .dataframe tbody tr th {\n",
       "        vertical-align: top;\n",
       "    }\n",
       "\n",
       "    .dataframe thead th {\n",
       "        text-align: right;\n",
       "    }\n",
       "</style>\n",
       "<table border=\"1\" class=\"dataframe\">\n",
       "  <thead>\n",
       "    <tr style=\"text-align: right;\">\n",
       "      <th></th>\n",
       "      <th></th>\n",
       "      <th>total</th>\n",
       "      <th>clicked</th>\n",
       "      <th>ratio clicked</th>\n",
       "    </tr>\n",
       "    <tr>\n",
       "      <th>manufacturer</th>\n",
       "      <th>device_model</th>\n",
       "      <th></th>\n",
       "      <th></th>\n",
       "      <th></th>\n",
       "    </tr>\n",
       "  </thead>\n",
       "  <tbody>\n",
       "    <tr>\n",
       "      <th>LG</th>\n",
       "      <th>LM-X210(G)</th>\n",
       "      <td>88520</td>\n",
       "      <td>6872</td>\n",
       "      <td>7.763217</td>\n",
       "    </tr>\n",
       "    <tr>\n",
       "      <th>Motorola</th>\n",
       "      <th>Moto E4</th>\n",
       "      <td>70483</td>\n",
       "      <td>6726</td>\n",
       "      <td>9.542727</td>\n",
       "    </tr>\n",
       "    <tr>\n",
       "      <th>LG</th>\n",
       "      <th>MP260</th>\n",
       "      <td>62609</td>\n",
       "      <td>6075</td>\n",
       "      <td>9.703078</td>\n",
       "    </tr>\n",
       "    <tr>\n",
       "      <th>Samsung</th>\n",
       "      <th>SM-J327T1</th>\n",
       "      <td>83013</td>\n",
       "      <td>4652</td>\n",
       "      <td>5.603942</td>\n",
       "    </tr>\n",
       "    <tr>\n",
       "      <th>LG</th>\n",
       "      <th>MS210</th>\n",
       "      <td>36479</td>\n",
       "      <td>3610</td>\n",
       "      <td>9.896105</td>\n",
       "    </tr>\n",
       "    <tr>\n",
       "      <th>...</th>\n",
       "      <th>...</th>\n",
       "      <td>...</td>\n",
       "      <td>...</td>\n",
       "      <td>...</td>\n",
       "    </tr>\n",
       "    <tr>\n",
       "      <th>LYF</th>\n",
       "      <th>LS-5017</th>\n",
       "      <td>2</td>\n",
       "      <td>0</td>\n",
       "      <td>0.000000</td>\n",
       "    </tr>\n",
       "    <tr>\n",
       "      <th rowspan=\"3\" valign=\"top\">LG</th>\n",
       "      <th>X240</th>\n",
       "      <td>7</td>\n",
       "      <td>0</td>\n",
       "      <td>0.000000</td>\n",
       "    </tr>\n",
       "    <tr>\n",
       "      <th>Stylo 3 Plus</th>\n",
       "      <td>9</td>\n",
       "      <td>0</td>\n",
       "      <td>0.000000</td>\n",
       "    </tr>\n",
       "    <tr>\n",
       "      <th>MS323</th>\n",
       "      <td>14</td>\n",
       "      <td>0</td>\n",
       "      <td>0.000000</td>\n",
       "    </tr>\n",
       "    <tr>\n",
       "      <th>wor(l)d</th>\n",
       "      <th>Space Phone</th>\n",
       "      <td>2</td>\n",
       "      <td>0</td>\n",
       "      <td>0.000000</td>\n",
       "    </tr>\n",
       "  </tbody>\n",
       "</table>\n",
       "<p>2267 rows × 3 columns</p>\n",
       "</div>"
      ],
      "text/plain": [
       "                           total  clicked  ratio clicked\n",
       "manufacturer device_model                               \n",
       "LG           LM-X210(G)    88520     6872       7.763217\n",
       "Motorola     Moto E4       70483     6726       9.542727\n",
       "LG           MP260         62609     6075       9.703078\n",
       "Samsung      SM-J327T1     83013     4652       5.603942\n",
       "LG           MS210         36479     3610       9.896105\n",
       "...                          ...      ...            ...\n",
       "LYF          LS-5017           2        0       0.000000\n",
       "LG           X240              7        0       0.000000\n",
       "             Stylo 3 Plus      9        0       0.000000\n",
       "             MS323            14        0       0.000000\n",
       "wor(l)d      Space Phone       2        0       0.000000\n",
       "\n",
       "[2267 rows x 3 columns]"
      ]
     },
     "execution_count": 16,
     "metadata": {},
     "output_type": "execute_result"
    }
   ],
   "source": [
    "table = pd.pivot_table(df_train, values=['clicked_numeric','clicked'], index=['manufacturer', 'device_model'],\n",
    "                    aggfunc={'clicked_numeric': np.sum, 'clicked':np.size}).sort_values(by=['clicked_numeric'],ascending=False)\n",
    "table=table.rename(columns={\"clicked\": \"total\", \"clicked_numeric\": \"clicked\"})\n",
    "table['ratio clicked']=100*table.clicked/table.total\n",
    "table"
   ]
  },
  {
   "cell_type": "code",
   "execution_count": null,
   "id": "b1ffc46d",
   "metadata": {},
   "outputs": [],
   "source": []
  }
 ],
 "metadata": {
  "kernelspec": {
   "display_name": "Python 3 (ipykernel)",
   "language": "python",
   "name": "python3"
  },
  "language_info": {
   "codemirror_mode": {
    "name": "ipython",
    "version": 3
   },
   "file_extension": ".py",
   "mimetype": "text/x-python",
   "name": "python",
   "nbconvert_exporter": "python",
   "pygments_lexer": "ipython3",
   "version": "3.9.13"
  }
 },
 "nbformat": 4,
 "nbformat_minor": 5
}
