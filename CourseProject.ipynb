{
 "cells": [
  {
   "cell_type": "code",
   "execution_count": 198,
   "id": "58c40788",
   "metadata": {},
   "outputs": [],
   "source": [
    "import pandas as pd\n",
    "import matplotlib.pyplot as plt\n",
    "import numpy as np\n",
    "import seaborn as sns\n",
    "from sklearn import preprocessing\n",
    "from datetime import datetime\n",
    "from matplotlib.pyplot import figure\n",
    "import datetime as dt\n"
   ]
  },
  {
   "cell_type": "markdown",
   "id": "4e33d2e8",
   "metadata": {},
   "source": [
    "# Data Loading"
   ]
  },
  {
   "cell_type": "code",
   "execution_count": 36,
   "id": "59c9e0af",
   "metadata": {},
   "outputs": [
    {
     "data": {
      "text/html": [
       "<div>\n",
       "<style scoped>\n",
       "    .dataframe tbody tr th:only-of-type {\n",
       "        vertical-align: middle;\n",
       "    }\n",
       "\n",
       "    .dataframe tbody tr th {\n",
       "        vertical-align: top;\n",
       "    }\n",
       "\n",
       "    .dataframe thead th {\n",
       "        text-align: right;\n",
       "    }\n",
       "</style>\n",
       "<table border=\"1\" class=\"dataframe\">\n",
       "  <thead>\n",
       "    <tr style=\"text-align: right;\">\n",
       "      <th></th>\n",
       "      <th>op_id</th>\n",
       "      <th>timestamp</th>\n",
       "      <th>state</th>\n",
       "      <th>user_isp</th>\n",
       "      <th>app_id</th>\n",
       "      <th>app_cat</th>\n",
       "      <th>banner_pos</th>\n",
       "      <th>manufacturer</th>\n",
       "      <th>device_model</th>\n",
       "      <th>device_version</th>\n",
       "      <th>device_height</th>\n",
       "      <th>device_width</th>\n",
       "      <th>resolution</th>\n",
       "      <th>clicked</th>\n",
       "    </tr>\n",
       "  </thead>\n",
       "  <tbody>\n",
       "    <tr>\n",
       "      <th>0</th>\n",
       "      <td>448ed944-b0a3-4f8e-9662-fb1202e2777b</td>\n",
       "      <td>1569445326</td>\n",
       "      <td>New Jersey</td>\n",
       "      <td>Comcast Cable</td>\n",
       "      <td>6rm7ag7</td>\n",
       "      <td>games - simulation</td>\n",
       "      <td>top-right</td>\n",
       "      <td>Samsung</td>\n",
       "      <td>SM-G925V</td>\n",
       "      <td>6.0.1</td>\n",
       "      <td>792</td>\n",
       "      <td>1408</td>\n",
       "      <td>True</td>\n",
       "      <td>False</td>\n",
       "    </tr>\n",
       "    <tr>\n",
       "      <th>1</th>\n",
       "      <td>3c501ca8-f771-4926-acce-d532f979b8b5</td>\n",
       "      <td>1566517297</td>\n",
       "      <td>Illinois</td>\n",
       "      <td>Verizon Wireless</td>\n",
       "      <td>74193f6</td>\n",
       "      <td>games - card</td>\n",
       "      <td>right</td>\n",
       "      <td>NaN</td>\n",
       "      <td>NaN</td>\n",
       "      <td>7.0</td>\n",
       "      <td>2560</td>\n",
       "      <td>1440</td>\n",
       "      <td>True</td>\n",
       "      <td>False</td>\n",
       "    </tr>\n",
       "    <tr>\n",
       "      <th>2</th>\n",
       "      <td>db342130-0f34-4d43-a72c-3c1891eade24</td>\n",
       "      <td>1566375809</td>\n",
       "      <td>California</td>\n",
       "      <td>T-Mobile USA</td>\n",
       "      <td>6549c21</td>\n",
       "      <td>games - puzzle</td>\n",
       "      <td>top-left</td>\n",
       "      <td>NaN</td>\n",
       "      <td>NaN</td>\n",
       "      <td>7.0</td>\n",
       "      <td>1280</td>\n",
       "      <td>720</td>\n",
       "      <td>True</td>\n",
       "      <td>False</td>\n",
       "    </tr>\n",
       "    <tr>\n",
       "      <th>3</th>\n",
       "      <td>f080c21c-7791-44c5-9429-8eb411786fe7</td>\n",
       "      <td>1568568842</td>\n",
       "      <td>California</td>\n",
       "      <td>T-Mobile USA</td>\n",
       "      <td>dng7e8p</td>\n",
       "      <td>unknown</td>\n",
       "      <td>left</td>\n",
       "      <td>Samsung</td>\n",
       "      <td>SM-J700T1</td>\n",
       "      <td>7.1.1</td>\n",
       "      <td>1280</td>\n",
       "      <td>720</td>\n",
       "      <td>True</td>\n",
       "      <td>False</td>\n",
       "    </tr>\n",
       "    <tr>\n",
       "      <th>4</th>\n",
       "      <td>3ca5ac37-7beb-4d2e-b0a8-662a4f9eb614</td>\n",
       "      <td>1571357999</td>\n",
       "      <td>Georgia</td>\n",
       "      <td>North Carolina Research and Education Network</td>\n",
       "      <td>hp3monn</td>\n",
       "      <td>games - simulation</td>\n",
       "      <td>top-left</td>\n",
       "      <td>T-Mobile</td>\n",
       "      <td>5049W</td>\n",
       "      <td>7.0</td>\n",
       "      <td>720</td>\n",
       "      <td>1280</td>\n",
       "      <td>True</td>\n",
       "      <td>True</td>\n",
       "    </tr>\n",
       "  </tbody>\n",
       "</table>\n",
       "</div>"
      ],
      "text/plain": [
       "                                  op_id   timestamp       state  \\\n",
       "0  448ed944-b0a3-4f8e-9662-fb1202e2777b  1569445326  New Jersey   \n",
       "1  3c501ca8-f771-4926-acce-d532f979b8b5  1566517297    Illinois   \n",
       "2  db342130-0f34-4d43-a72c-3c1891eade24  1566375809  California   \n",
       "3  f080c21c-7791-44c5-9429-8eb411786fe7  1568568842  California   \n",
       "4  3ca5ac37-7beb-4d2e-b0a8-662a4f9eb614  1571357999     Georgia   \n",
       "\n",
       "                                        user_isp   app_id             app_cat  \\\n",
       "0                                  Comcast Cable  6rm7ag7  games - simulation   \n",
       "1                               Verizon Wireless  74193f6        games - card   \n",
       "2                                   T-Mobile USA  6549c21      games - puzzle   \n",
       "3                                   T-Mobile USA  dng7e8p             unknown   \n",
       "4  North Carolina Research and Education Network  hp3monn  games - simulation   \n",
       "\n",
       "  banner_pos manufacturer device_model device_version  device_height  \\\n",
       "0  top-right      Samsung     SM-G925V          6.0.1            792   \n",
       "1      right          NaN          NaN            7.0           2560   \n",
       "2   top-left          NaN          NaN            7.0           1280   \n",
       "3       left      Samsung    SM-J700T1          7.1.1           1280   \n",
       "4   top-left     T-Mobile        5049W            7.0            720   \n",
       "\n",
       "   device_width  resolution  clicked  \n",
       "0          1408        True    False  \n",
       "1          1440        True    False  \n",
       "2           720        True    False  \n",
       "3           720        True    False  \n",
       "4          1280        True     True  "
      ]
     },
     "execution_count": 36,
     "metadata": {},
     "output_type": "execute_result"
    }
   ],
   "source": [
    "df_train=pd.read_csv('ctr_dataset_train.csv')\n",
    "df_train.head()"
   ]
  },
  {
   "cell_type": "markdown",
   "id": "7b193b1f",
   "metadata": {},
   "source": [
    "# Data Exploration\n"
   ]
  },
  {
   "cell_type": "markdown",
   "id": "f897373c",
   "metadata": {},
   "source": [
    "## Checking for null values"
   ]
  },
  {
   "cell_type": "code",
   "execution_count": 37,
   "id": "57a15e03",
   "metadata": {},
   "outputs": [
    {
     "name": "stdout",
     "output_type": "stream",
     "text": [
      " The number of unknown apps is 596348\n"
     ]
    }
   ],
   "source": [
    "print(f\" The number of unknown apps is {df_train.app_cat.loc[df_train.app_cat=='unknown'].count()}\")"
   ]
  },
  {
   "cell_type": "code",
   "execution_count": 38,
   "id": "6279491a",
   "metadata": {},
   "outputs": [
    {
     "data": {
      "text/plain": [
       "array(['games - simulation', 'games - card', 'games - puzzle', nan,\n",
       "       'games - casual', 'games - arcade', 'games - action',\n",
       "       'music_and_audio', 'games - educational', 'games - role_playing',\n",
       "       'personalization', 'games - adventure', 'games - board',\n",
       "       'entertainment', 'games - casino', 'games - strategy',\n",
       "       'games - word', 'games - racing', 'education', 'games - sports',\n",
       "       'productivity', 'shopping', 'social', 'libraries_and_demo',\n",
       "       'games - music', 'games - trivia', 'photography', 'food_and_drink',\n",
       "       'tools', 'art_and_design', 'auto_and_vehicles', 'video_players',\n",
       "       'dating', 'comics', 'travel_and_local', 'sports', 'lifestyle',\n",
       "       'books_and_reference', 'beauty', 'business', 'weather', 'finance',\n",
       "       'news_and_magazines', 'health_and_fitness', 'events',\n",
       "       'communication'], dtype=object)"
      ]
     },
     "execution_count": 38,
     "metadata": {},
     "output_type": "execute_result"
    }
   ],
   "source": [
    "df_train.app_cat.replace('unknown', np.nan,inplace=True)\n",
    "df_train.app_cat.unique()\n"
   ]
  },
  {
   "cell_type": "code",
   "execution_count": 39,
   "id": "5b44a768",
   "metadata": {},
   "outputs": [
    {
     "data": {
      "text/plain": [
       "<AxesSubplot: >"
      ]
     },
     "execution_count": 39,
     "metadata": {},
     "output_type": "execute_result"
    },
    {
     "data": {
      "image/png": "[encoded data removed]",
      "text/plain": [
       "<Figure size 640x480 with 1 Axes>"
      ]
     },
     "metadata": {},
     "output_type": "display_data"
    }
   ],
   "source": [
    "sns.heatmap(df_train.isnull(),yticklabels=False,cbar=False,cmap='viridis')"
   ]
  },
  {
   "cell_type": "code",
   "execution_count": 40,
   "id": "725992b9",
   "metadata": {},
   "outputs": [
    {
     "data": {
      "text/html": [
       "<div>\n",
       "<style scoped>\n",
       "    .dataframe tbody tr th:only-of-type {\n",
       "        vertical-align: middle;\n",
       "    }\n",
       "\n",
       "    .dataframe tbody tr th {\n",
       "        vertical-align: top;\n",
       "    }\n",
       "\n",
       "    .dataframe thead th {\n",
       "        text-align: right;\n",
       "    }\n",
       "</style>\n",
       "<table border=\"1\" class=\"dataframe\">\n",
       "  <thead>\n",
       "    <tr style=\"text-align: right;\">\n",
       "      <th></th>\n",
       "      <th>device_height</th>\n",
       "      <th>device_width</th>\n",
       "    </tr>\n",
       "  </thead>\n",
       "  <tbody>\n",
       "    <tr>\n",
       "      <th>count</th>\n",
       "      <td>2.519056e+06</td>\n",
       "      <td>2.519056e+06</td>\n",
       "    </tr>\n",
       "    <tr>\n",
       "      <th>mean</th>\n",
       "      <td>1.181182e+03</td>\n",
       "      <td>1.152202e+03</td>\n",
       "    </tr>\n",
       "    <tr>\n",
       "      <th>std</th>\n",
       "      <td>5.193045e+02</td>\n",
       "      <td>4.526964e+02</td>\n",
       "    </tr>\n",
       "    <tr>\n",
       "      <th>min</th>\n",
       "      <td>1.400000e+01</td>\n",
       "      <td>1.400000e+01</td>\n",
       "    </tr>\n",
       "    <tr>\n",
       "      <th>25%</th>\n",
       "      <td>7.200000e+02</td>\n",
       "      <td>7.200000e+02</td>\n",
       "    </tr>\n",
       "    <tr>\n",
       "      <th>50%</th>\n",
       "      <td>1.080000e+03</td>\n",
       "      <td>1.080000e+03</td>\n",
       "    </tr>\n",
       "    <tr>\n",
       "      <th>75%</th>\n",
       "      <td>1.280000e+03</td>\n",
       "      <td>1.280000e+03</td>\n",
       "    </tr>\n",
       "    <tr>\n",
       "      <th>max</th>\n",
       "      <td>3.120000e+03</td>\n",
       "      <td>3.120000e+03</td>\n",
       "    </tr>\n",
       "  </tbody>\n",
       "</table>\n",
       "</div>"
      ],
      "text/plain": [
       "       device_height  device_width\n",
       "count   2.519056e+06  2.519056e+06\n",
       "mean    1.181182e+03  1.152202e+03\n",
       "std     5.193045e+02  4.526964e+02\n",
       "min     1.400000e+01  1.400000e+01\n",
       "25%     7.200000e+02  7.200000e+02\n",
       "50%     1.080000e+03  1.080000e+03\n",
       "75%     1.280000e+03  1.280000e+03\n",
       "max     3.120000e+03  3.120000e+03"
      ]
     },
     "execution_count": 40,
     "metadata": {},
     "output_type": "execute_result"
    }
   ],
   "source": [
    "df_train[['device_height','device_width']].describe()"
   ]
  },
  {
   "cell_type": "markdown",
   "id": "00fc7b38",
   "metadata": {},
   "source": [
    "## One hot encoding"
   ]
  },
  {
   "cell_type": "markdown",
   "id": "0c926b13",
   "metadata": {},
   "source": [
    "features = ['state','banner_pos','manufacturer','app_cat']\n",
    "X = df_train[features]\n",
    "enc = preprocessing.OneHotEncoder()\n",
    "enc.fit(X) # fit the encoder to categories in our data \n",
    "one_hot = enc.transform(X)\n",
    "X_proc = pd.DataFrame(one_hot.toarray(), columns=enc.get_feature_names())\n"
   ]
  },
  {
   "cell_type": "code",
   "execution_count": 41,
   "id": "e8accbcb",
   "metadata": {},
   "outputs": [
    {
     "data": {
      "text/plain": [
       "op_id                  0\n",
       "timestamp              0\n",
       "state                  0\n",
       "user_isp              32\n",
       "app_id                 0\n",
       "app_cat           596348\n",
       "banner_pos             0\n",
       "manufacturer      770942\n",
       "device_model      770846\n",
       "device_version         0\n",
       "device_height          0\n",
       "device_width           0\n",
       "resolution             0\n",
       "clicked                0\n",
       "dtype: int64"
      ]
     },
     "execution_count": 41,
     "metadata": {},
     "output_type": "execute_result"
    }
   ],
   "source": [
    "df_train.isnull().sum()"
   ]
  },
  {
   "cell_type": "code",
   "execution_count": 42,
   "id": "b974aa91",
   "metadata": {},
   "outputs": [
    {
     "data": {
      "text/plain": [
       "op_id             2519056\n",
       "timestamp         1930791\n",
       "state                  51\n",
       "user_isp             3316\n",
       "app_id              14315\n",
       "app_cat                45\n",
       "banner_pos              9\n",
       "manufacturer          251\n",
       "device_model         2256\n",
       "device_version         16\n",
       "device_height         297\n",
       "device_width          238\n",
       "resolution              1\n",
       "clicked                 2\n",
       "dtype: int64"
      ]
     },
     "execution_count": 42,
     "metadata": {},
     "output_type": "execute_result"
    }
   ],
   "source": [
    "df_train.nunique()"
   ]
  },
  {
   "cell_type": "markdown",
   "id": "ec63d731",
   "metadata": {},
   "source": [
    "## Removing undesired columns"
   ]
  },
  {
   "cell_type": "markdown",
   "id": "f27ca61c",
   "metadata": {},
   "source": [
    "#### We can see that the resolution column has only one value, so it won't help the model for further classification"
   ]
  },
  {
   "cell_type": "code",
   "execution_count": 43,
   "id": "50468ed7",
   "metadata": {},
   "outputs": [],
   "source": [
    "df_train=df_train.drop(columns=['resolution'])\n"
   ]
  },
  {
   "cell_type": "markdown",
   "id": "d78cc7e0",
   "metadata": {},
   "source": [
    "## Correlation between features"
   ]
  },
  {
   "cell_type": "code",
   "execution_count": 44,
   "id": "33750f0d",
   "metadata": {},
   "outputs": [
    {
     "name": "stderr",
     "output_type": "stream",
     "text": [
      "C:\\Users\\liork\\AppData\\Local\\Temp\\ipykernel_21456\\3782643361.py:1: FutureWarning: The default value of numeric_only in DataFrame.corr is deprecated. In a future version, it will default to False. Select only valid columns or specify the value of numeric_only to silence this warning.\n",
      "  sns.heatmap(df_train.corr(),cmap='coolwarm')\n"
     ]
    },
    {
     "data": {
      "text/plain": [
       "Text(0.5, 1.0, 'new_data correlation')"
      ]
     },
     "execution_count": 44,
     "metadata": {},
     "output_type": "execute_result"
    },
    {
     "data": {
      "image/png": "[encoded data removed]",
      "text/plain": [
       "<Figure size 640x480 with 2 Axes>"
      ]
     },
     "metadata": {},
     "output_type": "display_data"
    }
   ],
   "source": [
    "sns.heatmap(df_train.corr(),cmap='coolwarm')\n",
    "plt.title('new_data correlation')"
   ]
  },
  {
   "cell_type": "markdown",
   "id": "642ac075",
   "metadata": {},
   "source": [
    "## Checking for imbalancing"
   ]
  },
  {
   "cell_type": "code",
   "execution_count": 45,
   "id": "b872a74e",
   "metadata": {},
   "outputs": [
    {
     "data": {
      "image/png": "[encoded data removed]",
      "text/plain": [
       "<Figure size 640x480 with 1 Axes>"
      ]
     },
     "metadata": {},
     "output_type": "display_data"
    }
   ],
   "source": [
    "y = np.array([df_train.clicked.sum(),df_train.shape[0]-df_train.clicked.sum()])\n",
    "mylabels = [\"Clicked\",\"Not Clicked\"]\n",
    "plt.pie(y, labels = mylabels,autopct='%1.1f%%', shadow = True)\n",
    "plt.show()"
   ]
  },
  {
   "cell_type": "markdown",
   "id": "ecb25a53",
   "metadata": {},
   "source": [
    "#### We can see that the dataset is not balanced at all, about 93% of the data has a False label"
   ]
  },
  {
   "cell_type": "markdown",
   "id": "f382e623",
   "metadata": {},
   "source": [
    "## Creating boxplots per feature"
   ]
  },
  {
   "cell_type": "code",
   "execution_count": null,
   "id": "dbc7c84d",
   "metadata": {},
   "outputs": [],
   "source": []
  },
  {
   "cell_type": "code",
   "execution_count": 46,
   "id": "9d505386",
   "metadata": {},
   "outputs": [
    {
     "data": {
      "text/plain": [
       "array(['New Jersey', 'Illinois', 'California', 'Georgia', 'Virginia',\n",
       "       'New York', 'Minnesota', 'Michigan', 'Florida', 'Ohio',\n",
       "       'Tennessee', 'Alabama', 'Oregon', 'Texas', 'Massachusetts',\n",
       "       'Hawaii', 'Colorado', 'Pennsylvania', 'Utah', 'Washington',\n",
       "       'Missouri', 'Oklahoma', 'North Carolina', 'Arkansas', 'Indiana',\n",
       "       'Mississippi', 'Louisiana', 'Rhode Island', 'South Dakota',\n",
       "       'Nevada', 'Arizona', 'Kentucky', 'Maryland', 'Wisconsin',\n",
       "       'South Carolina', 'Iowa', 'Connecticut', 'West Virginia',\n",
       "       'Vermont', 'District of Columbia', 'Montana', 'New Mexico',\n",
       "       'Kansas', 'Delaware', 'Wyoming', 'Idaho', 'New Hampshire', 'Maine',\n",
       "       'Nebraska', 'North Dakota', 'Alaska'], dtype=object)"
      ]
     },
     "execution_count": 46,
     "metadata": {},
     "output_type": "execute_result"
    }
   ],
   "source": [
    "df_train.state.unique()"
   ]
  },
  {
   "cell_type": "code",
   "execution_count": 47,
   "id": "948758d1",
   "metadata": {},
   "outputs": [
    {
     "data": {
      "text/plain": [
       "array(['games - simulation', 'games - card', 'games - puzzle', nan,\n",
       "       'games - casual', 'games - arcade', 'games - action',\n",
       "       'music_and_audio', 'games - educational', 'games - role_playing',\n",
       "       'personalization', 'games - adventure', 'games - board',\n",
       "       'entertainment', 'games - casino', 'games - strategy',\n",
       "       'games - word', 'games - racing', 'education', 'games - sports',\n",
       "       'productivity', 'shopping', 'social', 'libraries_and_demo',\n",
       "       'games - music', 'games - trivia', 'photography', 'food_and_drink',\n",
       "       'tools', 'art_and_design', 'auto_and_vehicles', 'video_players',\n",
       "       'dating', 'comics', 'travel_and_local', 'sports', 'lifestyle',\n",
       "       'books_and_reference', 'beauty', 'business', 'weather', 'finance',\n",
       "       'news_and_magazines', 'health_and_fitness', 'events',\n",
       "       'communication'], dtype=object)"
      ]
     },
     "execution_count": 47,
     "metadata": {},
     "output_type": "execute_result"
    }
   ],
   "source": [
    "df_train.app_cat.unique()"
   ]
  },
  {
   "cell_type": "code",
   "execution_count": 48,
   "id": "2a374f42",
   "metadata": {},
   "outputs": [],
   "source": [
    "df_train['clicked_numeric']=df_train.clicked*1\n"
   ]
  },
  {
   "cell_type": "code",
   "execution_count": 49,
   "id": "6ec7fc52",
   "metadata": {},
   "outputs": [
    {
     "name": "stdout",
     "output_type": "stream",
     "text": [
      "AxesSubplot(0.125,0.11;0.775x0.77)\n"
     ]
    },
    {
     "data": {
      "image/png": "[encoded data removed]",
      "text/plain": [
       "<Figure size 640x480 with 1 Axes>"
      ]
     },
     "metadata": {},
     "output_type": "display_data"
    }
   ],
   "source": [
    "boxplot = df_train.boxplot(column=list(df_train.columns[df_train.dtypes=='int64'][1:]))  \n",
    "print(boxplot)"
   ]
  },
  {
   "cell_type": "code",
   "execution_count": 50,
   "id": "6b02ccdc",
   "metadata": {},
   "outputs": [
    {
     "data": {
      "text/html": [
       "<div>\n",
       "<style scoped>\n",
       "    .dataframe tbody tr th:only-of-type {\n",
       "        vertical-align: middle;\n",
       "    }\n",
       "\n",
       "    .dataframe tbody tr th {\n",
       "        vertical-align: top;\n",
       "    }\n",
       "\n",
       "    .dataframe thead th {\n",
       "        text-align: right;\n",
       "    }\n",
       "</style>\n",
       "<table border=\"1\" class=\"dataframe\">\n",
       "  <thead>\n",
       "    <tr style=\"text-align: right;\">\n",
       "      <th></th>\n",
       "      <th></th>\n",
       "      <th>total</th>\n",
       "      <th>clicked</th>\n",
       "      <th>ratio clicked</th>\n",
       "    </tr>\n",
       "    <tr>\n",
       "      <th>manufacturer</th>\n",
       "      <th>device_model</th>\n",
       "      <th></th>\n",
       "      <th></th>\n",
       "      <th></th>\n",
       "    </tr>\n",
       "  </thead>\n",
       "  <tbody>\n",
       "    <tr>\n",
       "      <th>LG</th>\n",
       "      <th>LM-X210(G)</th>\n",
       "      <td>88520</td>\n",
       "      <td>6872</td>\n",
       "      <td>7.763217</td>\n",
       "    </tr>\n",
       "    <tr>\n",
       "      <th>Motorola</th>\n",
       "      <th>Moto E4</th>\n",
       "      <td>70483</td>\n",
       "      <td>6726</td>\n",
       "      <td>9.542727</td>\n",
       "    </tr>\n",
       "    <tr>\n",
       "      <th>LG</th>\n",
       "      <th>MP260</th>\n",
       "      <td>62609</td>\n",
       "      <td>6075</td>\n",
       "      <td>9.703078</td>\n",
       "    </tr>\n",
       "    <tr>\n",
       "      <th>Samsung</th>\n",
       "      <th>SM-J327T1</th>\n",
       "      <td>83013</td>\n",
       "      <td>4652</td>\n",
       "      <td>5.603942</td>\n",
       "    </tr>\n",
       "    <tr>\n",
       "      <th>LG</th>\n",
       "      <th>MS210</th>\n",
       "      <td>36479</td>\n",
       "      <td>3610</td>\n",
       "      <td>9.896105</td>\n",
       "    </tr>\n",
       "    <tr>\n",
       "      <th>...</th>\n",
       "      <th>...</th>\n",
       "      <td>...</td>\n",
       "      <td>...</td>\n",
       "      <td>...</td>\n",
       "    </tr>\n",
       "    <tr>\n",
       "      <th>LYF</th>\n",
       "      <th>LS-5017</th>\n",
       "      <td>2</td>\n",
       "      <td>0</td>\n",
       "      <td>0.000000</td>\n",
       "    </tr>\n",
       "    <tr>\n",
       "      <th rowspan=\"3\" valign=\"top\">LG</th>\n",
       "      <th>X240</th>\n",
       "      <td>7</td>\n",
       "      <td>0</td>\n",
       "      <td>0.000000</td>\n",
       "    </tr>\n",
       "    <tr>\n",
       "      <th>Stylo 3 Plus</th>\n",
       "      <td>9</td>\n",
       "      <td>0</td>\n",
       "      <td>0.000000</td>\n",
       "    </tr>\n",
       "    <tr>\n",
       "      <th>MS323</th>\n",
       "      <td>14</td>\n",
       "      <td>0</td>\n",
       "      <td>0.000000</td>\n",
       "    </tr>\n",
       "    <tr>\n",
       "      <th>wor(l)d</th>\n",
       "      <th>Space Phone</th>\n",
       "      <td>2</td>\n",
       "      <td>0</td>\n",
       "      <td>0.000000</td>\n",
       "    </tr>\n",
       "  </tbody>\n",
       "</table>\n",
       "<p>2267 rows × 3 columns</p>\n",
       "</div>"
      ],
      "text/plain": [
       "                           total  clicked  ratio clicked\n",
       "manufacturer device_model                               \n",
       "LG           LM-X210(G)    88520     6872       7.763217\n",
       "Motorola     Moto E4       70483     6726       9.542727\n",
       "LG           MP260         62609     6075       9.703078\n",
       "Samsung      SM-J327T1     83013     4652       5.603942\n",
       "LG           MS210         36479     3610       9.896105\n",
       "...                          ...      ...            ...\n",
       "LYF          LS-5017           2        0       0.000000\n",
       "LG           X240              7        0       0.000000\n",
       "             Stylo 3 Plus      9        0       0.000000\n",
       "             MS323            14        0       0.000000\n",
       "wor(l)d      Space Phone       2        0       0.000000\n",
       "\n",
       "[2267 rows x 3 columns]"
      ]
     },
     "execution_count": 50,
     "metadata": {},
     "output_type": "execute_result"
    }
   ],
   "source": [
    "table = pd.pivot_table(df_train, values=['clicked_numeric','clicked'], index=['manufacturer', 'device_model'],\n",
    "                    aggfunc={'clicked_numeric': np.sum, 'clicked':np.size}).sort_values(by=['clicked_numeric'],ascending=False)\n",
    "table=table.rename(columns={\"clicked\": \"total\", \"clicked_numeric\": \"clicked\"})\n",
    "table['ratio clicked']=100*table.clicked/table.total\n",
    "table"
   ]
  },
  {
   "cell_type": "code",
   "execution_count": 51,
   "id": "b1ffc46d",
   "metadata": {},
   "outputs": [
    {
     "data": {
      "text/html": [
       "<div>\n",
       "<style scoped>\n",
       "    .dataframe tbody tr th:only-of-type {\n",
       "        vertical-align: middle;\n",
       "    }\n",
       "\n",
       "    .dataframe tbody tr th {\n",
       "        vertical-align: top;\n",
       "    }\n",
       "\n",
       "    .dataframe thead th {\n",
       "        text-align: right;\n",
       "    }\n",
       "</style>\n",
       "<table border=\"1\" class=\"dataframe\">\n",
       "  <thead>\n",
       "    <tr style=\"text-align: right;\">\n",
       "      <th></th>\n",
       "      <th>op_id</th>\n",
       "      <th>timestamp</th>\n",
       "      <th>state</th>\n",
       "      <th>user_isp</th>\n",
       "      <th>app_id</th>\n",
       "      <th>app_cat</th>\n",
       "      <th>banner_pos</th>\n",
       "      <th>manufacturer</th>\n",
       "      <th>device_model</th>\n",
       "      <th>device_version</th>\n",
       "      <th>device_height</th>\n",
       "      <th>device_width</th>\n",
       "      <th>clicked</th>\n",
       "      <th>clicked_numeric</th>\n",
       "    </tr>\n",
       "  </thead>\n",
       "  <tbody>\n",
       "    <tr>\n",
       "      <th>0</th>\n",
       "      <td>448ed944-b0a3-4f8e-9662-fb1202e2777b</td>\n",
       "      <td>2019-09-26 00:02:06</td>\n",
       "      <td>New Jersey</td>\n",
       "      <td>Comcast Cable</td>\n",
       "      <td>6rm7ag7</td>\n",
       "      <td>games - simulation</td>\n",
       "      <td>top-right</td>\n",
       "      <td>Samsung</td>\n",
       "      <td>SM-G925V</td>\n",
       "      <td>6.0.1</td>\n",
       "      <td>792</td>\n",
       "      <td>1408</td>\n",
       "      <td>False</td>\n",
       "      <td>0</td>\n",
       "    </tr>\n",
       "    <tr>\n",
       "      <th>1</th>\n",
       "      <td>3c501ca8-f771-4926-acce-d532f979b8b5</td>\n",
       "      <td>2019-08-23 02:41:37</td>\n",
       "      <td>Illinois</td>\n",
       "      <td>Verizon Wireless</td>\n",
       "      <td>74193f6</td>\n",
       "      <td>games - card</td>\n",
       "      <td>right</td>\n",
       "      <td>NaN</td>\n",
       "      <td>NaN</td>\n",
       "      <td>7.0</td>\n",
       "      <td>2560</td>\n",
       "      <td>1440</td>\n",
       "      <td>False</td>\n",
       "      <td>0</td>\n",
       "    </tr>\n",
       "    <tr>\n",
       "      <th>2</th>\n",
       "      <td>db342130-0f34-4d43-a72c-3c1891eade24</td>\n",
       "      <td>2019-08-21 11:23:29</td>\n",
       "      <td>California</td>\n",
       "      <td>T-Mobile USA</td>\n",
       "      <td>6549c21</td>\n",
       "      <td>games - puzzle</td>\n",
       "      <td>top-left</td>\n",
       "      <td>NaN</td>\n",
       "      <td>NaN</td>\n",
       "      <td>7.0</td>\n",
       "      <td>1280</td>\n",
       "      <td>720</td>\n",
       "      <td>False</td>\n",
       "      <td>0</td>\n",
       "    </tr>\n",
       "    <tr>\n",
       "      <th>3</th>\n",
       "      <td>f080c21c-7791-44c5-9429-8eb411786fe7</td>\n",
       "      <td>2019-09-15 20:34:02</td>\n",
       "      <td>California</td>\n",
       "      <td>T-Mobile USA</td>\n",
       "      <td>dng7e8p</td>\n",
       "      <td>NaN</td>\n",
       "      <td>left</td>\n",
       "      <td>Samsung</td>\n",
       "      <td>SM-J700T1</td>\n",
       "      <td>7.1.1</td>\n",
       "      <td>1280</td>\n",
       "      <td>720</td>\n",
       "      <td>False</td>\n",
       "      <td>0</td>\n",
       "    </tr>\n",
       "    <tr>\n",
       "      <th>4</th>\n",
       "      <td>3ca5ac37-7beb-4d2e-b0a8-662a4f9eb614</td>\n",
       "      <td>2019-10-18 03:19:59</td>\n",
       "      <td>Georgia</td>\n",
       "      <td>North Carolina Research and Education Network</td>\n",
       "      <td>hp3monn</td>\n",
       "      <td>games - simulation</td>\n",
       "      <td>top-left</td>\n",
       "      <td>T-Mobile</td>\n",
       "      <td>5049W</td>\n",
       "      <td>7.0</td>\n",
       "      <td>720</td>\n",
       "      <td>1280</td>\n",
       "      <td>True</td>\n",
       "      <td>1</td>\n",
       "    </tr>\n",
       "  </tbody>\n",
       "</table>\n",
       "</div>"
      ],
      "text/plain": [
       "                                  op_id           timestamp       state  \\\n",
       "0  448ed944-b0a3-4f8e-9662-fb1202e2777b 2019-09-26 00:02:06  New Jersey   \n",
       "1  3c501ca8-f771-4926-acce-d532f979b8b5 2019-08-23 02:41:37    Illinois   \n",
       "2  db342130-0f34-4d43-a72c-3c1891eade24 2019-08-21 11:23:29  California   \n",
       "3  f080c21c-7791-44c5-9429-8eb411786fe7 2019-09-15 20:34:02  California   \n",
       "4  3ca5ac37-7beb-4d2e-b0a8-662a4f9eb614 2019-10-18 03:19:59     Georgia   \n",
       "\n",
       "                                        user_isp   app_id             app_cat  \\\n",
       "0                                  Comcast Cable  6rm7ag7  games - simulation   \n",
       "1                               Verizon Wireless  74193f6        games - card   \n",
       "2                                   T-Mobile USA  6549c21      games - puzzle   \n",
       "3                                   T-Mobile USA  dng7e8p                 NaN   \n",
       "4  North Carolina Research and Education Network  hp3monn  games - simulation   \n",
       "\n",
       "  banner_pos manufacturer device_model device_version  device_height  \\\n",
       "0  top-right      Samsung     SM-G925V          6.0.1            792   \n",
       "1      right          NaN          NaN            7.0           2560   \n",
       "2   top-left          NaN          NaN            7.0           1280   \n",
       "3       left      Samsung    SM-J700T1          7.1.1           1280   \n",
       "4   top-left     T-Mobile        5049W            7.0            720   \n",
       "\n",
       "   device_width  clicked  clicked_numeric  \n",
       "0          1408    False                0  \n",
       "1          1440    False                0  \n",
       "2           720    False                0  \n",
       "3           720    False                0  \n",
       "4          1280     True                1  "
      ]
     },
     "execution_count": 51,
     "metadata": {},
     "output_type": "execute_result"
    }
   ],
   "source": [
    "df_train.timestamp=df_train.timestamp.apply(dt.datetime.fromtimestamp)\n"
   ]
  },
  {
   "attachments": {},
   "cell_type": "markdown",
   "id": "0e76c119",
   "metadata": {},
   "source": [
    "## convert timestamp to day and month columns "
   ]
  },
  {
   "cell_type": "code",
   "execution_count": 151,
   "id": "d134d8bc",
   "metadata": {},
   "outputs": [],
   "source": [
    "df_train[\"month\"]=df_train.timestamp.apply(lambda x: x.month)\n",
    "df_train[\"day\"]=df_train.timestamp.apply(lambda x: x.day)\n",
    "df_train[\"hour\"]=df_train.timestamp.apply(lambda x: x.hour)\n",
    "\n",
    "\n"
   ]
  },
  {
   "attachments": {},
   "cell_type": "markdown",
   "id": "b72e6642",
   "metadata": {},
   "source": [
    "### Discretization of the time of day"
   ]
  },
  {
   "cell_type": "code",
   "execution_count": 170,
   "id": "2cf814b4",
   "metadata": {},
   "outputs": [
    {
     "data": {
      "text/plain": [
       "0          evening\n",
       "1          evening\n",
       "2          morning\n",
       "3          evening\n",
       "4          evening\n",
       "            ...   \n",
       "2519051    evening\n",
       "2519052    evening\n",
       "2519053    evening\n",
       "2519054    evening\n",
       "2519055    morning\n",
       "Name: interval of day, Length: 2519056, dtype: object"
      ]
     },
     "execution_count": 170,
     "metadata": {},
     "output_type": "execute_result"
    }
   ],
   "source": [
    "def return_interval(x):\n",
    "    if x in np.arange(6,12):\n",
    "        return 'morning'\n",
    "    elif x in np.arange(12,18):\n",
    "        return 'noon'\n",
    "    else:\n",
    "        return 'evening'\n",
    "df_train[\"interval of day\"]=df_train.hour.apply(return_interval)\n"
   ]
  },
  {
   "attachments": {},
   "cell_type": "markdown",
   "id": "c9f1d7d7",
   "metadata": {},
   "source": [
    "## The relaitonship between interval of day and No. of clicked ads"
   ]
  },
  {
   "cell_type": "code",
   "execution_count": 246,
   "id": "d4f54204",
   "metadata": {},
   "outputs": [
    {
     "data": {
      "image/png": "[encoded data removed]",
      "text/plain": [
       "<Figure size 640x480 with 1 Axes>"
      ]
     },
     "metadata": {},
     "output_type": "display_data"
    }
   ],
   "source": [
    "df_clicked_by_month_day=df_train[['clicked_numeric','interval of day']].groupby(by=['interval of day']).agg({'clicked_numeric':['sum','count']})\n",
    "#print(df_clicked_by_month_day.head())\n",
    "df_clicked_by_month_day=df_clicked_by_month_day.droplevel(0,axis=1)\n",
    "interval_order = [\"morning\", \"noon\", \"evening\"]\n",
    "df_clicked_by_month_day.rename(columns={'sum':'No. of clicks','count':'No. of ads'},inplace=True) \n",
    "df_clicked_by_month_day.loc[interval_order].plot.bar(stacked=True)\n",
    "plt.title(\"Number of clicks per interval of the day\")\n",
    "plt.show()\n",
    "\n"
   ]
  },
  {
   "attachments": {},
   "cell_type": "markdown",
   "id": "b13bfba8",
   "metadata": {},
   "source": [
    "#### note: We can clearly see that users tend to click on ads as the day progresses and is effected by the number of adds overall\n"
   ]
  },
  {
   "attachments": {},
   "cell_type": "markdown",
   "id": "cea2cf92",
   "metadata": {},
   "source": [
    "## Find precent of ads clicked by month"
   ]
  },
  {
   "cell_type": "code",
   "execution_count": 148,
   "id": "1fa3557b",
   "metadata": {},
   "outputs": [
    {
     "data": {
      "text/html": [
       "<div>\n",
       "<style scoped>\n",
       "    .dataframe tbody tr th:only-of-type {\n",
       "        vertical-align: middle;\n",
       "    }\n",
       "\n",
       "    .dataframe tbody tr th {\n",
       "        vertical-align: top;\n",
       "    }\n",
       "\n",
       "    .dataframe thead tr th {\n",
       "        text-align: left;\n",
       "    }\n",
       "\n",
       "    .dataframe thead tr:last-of-type th {\n",
       "        text-align: right;\n",
       "    }\n",
       "</style>\n",
       "<table border=\"1\" class=\"dataframe\">\n",
       "  <thead>\n",
       "    <tr>\n",
       "      <th></th>\n",
       "      <th colspan=\"3\" halign=\"left\">clicked_numeric</th>\n",
       "    </tr>\n",
       "    <tr>\n",
       "      <th></th>\n",
       "      <th>sum</th>\n",
       "      <th>count</th>\n",
       "      <th>%clicked</th>\n",
       "    </tr>\n",
       "    <tr>\n",
       "      <th>month</th>\n",
       "      <th></th>\n",
       "      <th></th>\n",
       "      <th></th>\n",
       "    </tr>\n",
       "  </thead>\n",
       "  <tbody>\n",
       "    <tr>\n",
       "      <th>7</th>\n",
       "      <td>366</td>\n",
       "      <td>8293</td>\n",
       "      <td>4.41</td>\n",
       "    </tr>\n",
       "    <tr>\n",
       "      <th>8</th>\n",
       "      <td>34744</td>\n",
       "      <td>616640</td>\n",
       "      <td>5.63</td>\n",
       "    </tr>\n",
       "    <tr>\n",
       "      <th>9</th>\n",
       "      <td>64821</td>\n",
       "      <td>920786</td>\n",
       "      <td>7.04</td>\n",
       "    </tr>\n",
       "    <tr>\n",
       "      <th>10</th>\n",
       "      <td>55298</td>\n",
       "      <td>758778</td>\n",
       "      <td>7.29</td>\n",
       "    </tr>\n",
       "    <tr>\n",
       "      <th>11</th>\n",
       "      <td>15329</td>\n",
       "      <td>214559</td>\n",
       "      <td>7.14</td>\n",
       "    </tr>\n",
       "  </tbody>\n",
       "</table>\n",
       "</div>"
      ],
      "text/plain": [
       "      clicked_numeric                 \n",
       "                  sum   count %clicked\n",
       "month                                 \n",
       "7                 366    8293     4.41\n",
       "8               34744  616640     5.63\n",
       "9               64821  920786     7.04\n",
       "10              55298  758778     7.29\n",
       "11              15329  214559     7.14"
      ]
     },
     "execution_count": 148,
     "metadata": {},
     "output_type": "execute_result"
    }
   ],
   "source": [
    "df=df_train[['month','clicked_numeric']].groupby(by=['month']).agg({'clicked_numeric':['sum','count']})\n",
    "df[('clicked_numeric',   '%clicked')]=np.round(100*df[('clicked_numeric',   'sum')]/df[('clicked_numeric',   'count')],2)\n",
    "df"
   ]
  },
  {
   "attachments": {},
   "cell_type": "markdown",
   "id": "fdb83a53",
   "metadata": {},
   "source": [
    "#### note: We can see that there is a slight increase of ads clicked in the last 3 months"
   ]
  },
  {
   "attachments": {},
   "cell_type": "markdown",
   "id": "43a29a70",
   "metadata": {},
   "source": [
    "## plot for seasonality of the days in each month"
   ]
  },
  {
   "cell_type": "code",
   "execution_count": 223,
   "id": "4d3544fa",
   "metadata": {},
   "outputs": [
    {
     "data": {
      "image/png": "[encoded data removed]",
      "text/plain": [
       "<Figure size 640x480 with 4 Axes>"
      ]
     },
     "metadata": {},
     "output_type": "display_data"
    }
   ],
   "source": [
    "df_clicked_by_month_day=df_train[['day','month','clicked_numeric']].groupby(by=['month','day']).agg({'clicked_numeric':['sum']})\n",
    "df_list = [df_clicked_by_month_day.loc[(i, slice(None)), :] for i in range(8,12)]\n",
    "fig, axes = plt.subplots(4)\n",
    "fig.tight_layout(pad=2.0)\n",
    "for r in range(4):\n",
    "    df_list[r].plot(ax=axes[r])\n",
    "    axes[r].get_legend().remove()\n",
    "\n"
   ]
  },
  {
   "cell_type": "code",
   "execution_count": null,
   "id": "900ff994",
   "metadata": {},
   "outputs": [],
   "source": [
    "print(\"done\")"
   ]
  },
  {
   "cell_type": "code",
   "execution_count": null,
   "id": "e9d5ff93",
   "metadata": {},
   "outputs": [],
   "source": []
  }
 ],
 "metadata": {
  "kernelspec": {
   "display_name": "Python 3.11.0 64-bit",
   "language": "python",
   "name": "python3"
  },
  "language_info": {
   "codemirror_mode": {
    "name": "ipython",
    "version": 3
   },
   "file_extension": ".py",
   "mimetype": "text/x-python",
   "name": "python",
   "nbconvert_exporter": "python",
   "pygments_lexer": "ipython3",
   "version": "3.11.0"
  },
  "vscode": {
   "interpreter": {
    "hash": "18934d53edf36ed1be8aaea7c9a854d2a8cab7da8a9f4e50da1a29d1a5abfea4"
   }
  }
 },
 "nbformat": 4,
 "nbformat_minor": 5
}
